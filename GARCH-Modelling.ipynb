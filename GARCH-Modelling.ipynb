{
 "cells": [
  {
   "cell_type": "markdown",
   "metadata": {},
   "source": [
    "$$\\large \\color{green}{\\textbf{The Generalized Autoregressive Conditional Ceteroskedasticity (GARCH) Modelling }}$$ \n",
    "\n",
    "$$\\large \\color{blue}{\\textbf{Phuong Van Nguyen}}$$\n",
    "$$\\small \\color{red}{\\textbf{ phuong.nguyen@summer.barcelonagse.eu}}$$\n",
    "\n",
    "\n",
    "This computer program was written by Phuong V. Nguyen, based on the $\\textbf{Anacoda 1.9.7}$ and $\\textbf{Python 3.7}$.\n",
    "\n",
    "$\\text{2. Dataset:}$ \n",
    "\n",
    "One can download the dataset used to replicate my project at my Repositories on the Github site below\n",
    "\n",
    "https://github.com/phuongvnguyen/GARCH-Modelling/blob/master/data.xlsx\n",
    "\n",
    "# Preparing Problem\n",
    "\n",
    "##  Loading Libraries"
   ]
  },
  {
   "cell_type": "code",
   "execution_count": 38,
   "metadata": {},
   "outputs": [],
   "source": [
    "import warnings\n",
    "import itertools\n",
    "import numpy as np\n",
    "import datetime as dt\n",
    "import matplotlib.pyplot as plt\n",
    "import seaborn as sns\n",
    "from statsmodels.tsa.arima_model import ARIMA\n",
    "#import pmdarima as pm\n",
    "warnings.filterwarnings(\"ignore\")\n",
    "plt.style.use('fivethirtyeight')\n",
    "import pandas as pd\n",
    "import statsmodels.api as sm\n",
    "import matplotlib\n",
    "from arch import arch_model\n",
    "from arch.univariate import GARCH"
   ]
  },
  {
   "cell_type": "markdown",
   "metadata": {},
   "source": [
    "## Defining some varibales for printing the result"
   ]
  },
  {
   "cell_type": "code",
   "execution_count": 2,
   "metadata": {},
   "outputs": [],
   "source": [
    "Purple= '\\033[95m'\n",
    "Cyan= '\\033[96m'\n",
    "Darkcyan= '\\033[36m'\n",
    "Blue = '\\033[94m'\n",
    "Green = '\\033[92m'\n",
    "Yellow = '\\033[93m'\n",
    "Red = '\\033[91m'\n",
    "Bold = \"\\033[1m\"\n",
    "Reset = \"\\033[0;0m\"\n",
    "Underline= '\\033[4m'\n",
    "End = '\\033[0m'"
   ]
  },
  {
   "cell_type": "markdown",
   "metadata": {},
   "source": [
    "##  Loading Dataset"
   ]
  },
  {
   "cell_type": "code",
   "execution_count": 7,
   "metadata": {},
   "outputs": [],
   "source": [
    "data = pd.read_excel(\"data.xlsx\")\n"
   ]
  },
  {
   "cell_type": "markdown",
   "metadata": {},
   "source": [
    "# Data Exploration and Preration\n",
    "\n",
    "## Data exploration"
   ]
  },
  {
   "cell_type": "code",
   "execution_count": 8,
   "metadata": {},
   "outputs": [
    {
     "data": {
      "text/html": [
       "<div>\n",
       "<style scoped>\n",
       "    .dataframe tbody tr th:only-of-type {\n",
       "        vertical-align: middle;\n",
       "    }\n",
       "\n",
       "    .dataframe tbody tr th {\n",
       "        vertical-align: top;\n",
       "    }\n",
       "\n",
       "    .dataframe thead th {\n",
       "        text-align: right;\n",
       "    }\n",
       "</style>\n",
       "<table border=\"1\" class=\"dataframe\">\n",
       "  <thead>\n",
       "    <tr style=\"text-align: right;\">\n",
       "      <th></th>\n",
       "      <th>DATE</th>\n",
       "      <th>CLOSE</th>\n",
       "      <th>TICKER</th>\n",
       "      <th>OPEN</th>\n",
       "      <th>HIGH</th>\n",
       "      <th>LOW</th>\n",
       "      <th>VOLUME</th>\n",
       "    </tr>\n",
       "  </thead>\n",
       "  <tbody>\n",
       "    <tr>\n",
       "      <td>0</td>\n",
       "      <td>2007-09-19</td>\n",
       "      <td>125.0</td>\n",
       "      <td>VIC</td>\n",
       "      <td>125.0</td>\n",
       "      <td>125.0</td>\n",
       "      <td>125.0</td>\n",
       "      <td>307840</td>\n",
       "    </tr>\n",
       "    <tr>\n",
       "      <td>1</td>\n",
       "      <td>2007-09-20</td>\n",
       "      <td>131.0</td>\n",
       "      <td>VIC</td>\n",
       "      <td>131.0</td>\n",
       "      <td>131.0</td>\n",
       "      <td>130.0</td>\n",
       "      <td>794790</td>\n",
       "    </tr>\n",
       "    <tr>\n",
       "      <td>2</td>\n",
       "      <td>2007-09-21</td>\n",
       "      <td>137.0</td>\n",
       "      <td>VIC</td>\n",
       "      <td>137.0</td>\n",
       "      <td>137.0</td>\n",
       "      <td>135.0</td>\n",
       "      <td>1224660</td>\n",
       "    </tr>\n",
       "    <tr>\n",
       "      <td>3</td>\n",
       "      <td>2007-09-24</td>\n",
       "      <td>143.0</td>\n",
       "      <td>VIC</td>\n",
       "      <td>143.0</td>\n",
       "      <td>143.0</td>\n",
       "      <td>143.0</td>\n",
       "      <td>551130</td>\n",
       "    </tr>\n",
       "    <tr>\n",
       "      <td>4</td>\n",
       "      <td>2007-09-25</td>\n",
       "      <td>150.0</td>\n",
       "      <td>VIC</td>\n",
       "      <td>150.0</td>\n",
       "      <td>150.0</td>\n",
       "      <td>148.0</td>\n",
       "      <td>962110</td>\n",
       "    </tr>\n",
       "  </tbody>\n",
       "</table>\n",
       "</div>"
      ],
      "text/plain": [
       "        DATE  CLOSE TICKER   OPEN   HIGH    LOW   VOLUME\n",
       "0 2007-09-19  125.0    VIC  125.0  125.0  125.0   307840\n",
       "1 2007-09-20  131.0    VIC  131.0  131.0  130.0   794790\n",
       "2 2007-09-21  137.0    VIC  137.0  137.0  135.0  1224660\n",
       "3 2007-09-24  143.0    VIC  143.0  143.0  143.0   551130\n",
       "4 2007-09-25  150.0    VIC  150.0  150.0  148.0   962110"
      ]
     },
     "execution_count": 8,
     "metadata": {},
     "output_type": "execute_result"
    }
   ],
   "source": [
    "data.head(5)"
   ]
  },
  {
   "cell_type": "markdown",
   "metadata": {},
   "source": [
    "## Computing returns\n",
    "### Picking up the close prices"
   ]
  },
  {
   "cell_type": "code",
   "execution_count": 16,
   "metadata": {},
   "outputs": [
    {
     "data": {
      "text/html": [
       "<div>\n",
       "<style scoped>\n",
       "    .dataframe tbody tr th:only-of-type {\n",
       "        vertical-align: middle;\n",
       "    }\n",
       "\n",
       "    .dataframe tbody tr th {\n",
       "        vertical-align: top;\n",
       "    }\n",
       "\n",
       "    .dataframe thead th {\n",
       "        text-align: right;\n",
       "    }\n",
       "</style>\n",
       "<table border=\"1\" class=\"dataframe\">\n",
       "  <thead>\n",
       "    <tr style=\"text-align: right;\">\n",
       "      <th></th>\n",
       "      <th>DATE</th>\n",
       "      <th>CLOSE</th>\n",
       "    </tr>\n",
       "  </thead>\n",
       "  <tbody>\n",
       "    <tr>\n",
       "      <td>0</td>\n",
       "      <td>2007-09-19</td>\n",
       "      <td>125.0</td>\n",
       "    </tr>\n",
       "    <tr>\n",
       "      <td>1</td>\n",
       "      <td>2007-09-20</td>\n",
       "      <td>131.0</td>\n",
       "    </tr>\n",
       "    <tr>\n",
       "      <td>2</td>\n",
       "      <td>2007-09-21</td>\n",
       "      <td>137.0</td>\n",
       "    </tr>\n",
       "    <tr>\n",
       "      <td>3</td>\n",
       "      <td>2007-09-24</td>\n",
       "      <td>143.0</td>\n",
       "    </tr>\n",
       "    <tr>\n",
       "      <td>4</td>\n",
       "      <td>2007-09-25</td>\n",
       "      <td>150.0</td>\n",
       "    </tr>\n",
       "  </tbody>\n",
       "</table>\n",
       "</div>"
      ],
      "text/plain": [
       "        DATE  CLOSE\n",
       "0 2007-09-19  125.0\n",
       "1 2007-09-20  131.0\n",
       "2 2007-09-21  137.0\n",
       "3 2007-09-24  143.0\n",
       "4 2007-09-25  150.0"
      ]
     },
     "execution_count": 16,
     "metadata": {},
     "output_type": "execute_result"
    }
   ],
   "source": [
    "closePrice = data[['DATE','CLOSE']]\n",
    "closePrice.head(5)"
   ]
  },
  {
   "cell_type": "markdown",
   "metadata": {},
   "source": [
    "### Computing the daily returns"
   ]
  },
  {
   "cell_type": "code",
   "execution_count": 17,
   "metadata": {},
   "outputs": [
    {
     "data": {
      "text/html": [
       "<div>\n",
       "<style scoped>\n",
       "    .dataframe tbody tr th:only-of-type {\n",
       "        vertical-align: middle;\n",
       "    }\n",
       "\n",
       "    .dataframe tbody tr th {\n",
       "        vertical-align: top;\n",
       "    }\n",
       "\n",
       "    .dataframe thead th {\n",
       "        text-align: right;\n",
       "    }\n",
       "</style>\n",
       "<table border=\"1\" class=\"dataframe\">\n",
       "  <thead>\n",
       "    <tr style=\"text-align: right;\">\n",
       "      <th></th>\n",
       "      <th>DATE</th>\n",
       "      <th>CLOSE</th>\n",
       "      <th>Return</th>\n",
       "    </tr>\n",
       "  </thead>\n",
       "  <tbody>\n",
       "    <tr>\n",
       "      <td>0</td>\n",
       "      <td>2007-09-19</td>\n",
       "      <td>125.0</td>\n",
       "      <td>NaN</td>\n",
       "    </tr>\n",
       "    <tr>\n",
       "      <td>1</td>\n",
       "      <td>2007-09-20</td>\n",
       "      <td>131.0</td>\n",
       "      <td>0.048000</td>\n",
       "    </tr>\n",
       "    <tr>\n",
       "      <td>2</td>\n",
       "      <td>2007-09-21</td>\n",
       "      <td>137.0</td>\n",
       "      <td>0.045802</td>\n",
       "    </tr>\n",
       "    <tr>\n",
       "      <td>3</td>\n",
       "      <td>2007-09-24</td>\n",
       "      <td>143.0</td>\n",
       "      <td>0.043796</td>\n",
       "    </tr>\n",
       "    <tr>\n",
       "      <td>4</td>\n",
       "      <td>2007-09-25</td>\n",
       "      <td>150.0</td>\n",
       "      <td>0.048951</td>\n",
       "    </tr>\n",
       "  </tbody>\n",
       "</table>\n",
       "</div>"
      ],
      "text/plain": [
       "        DATE  CLOSE    Return\n",
       "0 2007-09-19  125.0       NaN\n",
       "1 2007-09-20  131.0  0.048000\n",
       "2 2007-09-21  137.0  0.045802\n",
       "3 2007-09-24  143.0  0.043796\n",
       "4 2007-09-25  150.0  0.048951"
      ]
     },
     "execution_count": 17,
     "metadata": {},
     "output_type": "execute_result"
    }
   ],
   "source": [
    "closePrice['Return'] = closePrice['CLOSE'].pct_change()\n",
    "closePrice.head()"
   ]
  },
  {
   "cell_type": "code",
   "execution_count": 18,
   "metadata": {},
   "outputs": [
    {
     "data": {
      "text/html": [
       "<div>\n",
       "<style scoped>\n",
       "    .dataframe tbody tr th:only-of-type {\n",
       "        vertical-align: middle;\n",
       "    }\n",
       "\n",
       "    .dataframe tbody tr th {\n",
       "        vertical-align: top;\n",
       "    }\n",
       "\n",
       "    .dataframe thead th {\n",
       "        text-align: right;\n",
       "    }\n",
       "</style>\n",
       "<table border=\"1\" class=\"dataframe\">\n",
       "  <thead>\n",
       "    <tr style=\"text-align: right;\">\n",
       "      <th></th>\n",
       "      <th>DATE</th>\n",
       "      <th>Return</th>\n",
       "    </tr>\n",
       "  </thead>\n",
       "  <tbody>\n",
       "    <tr>\n",
       "      <td>0</td>\n",
       "      <td>2007-09-19</td>\n",
       "      <td>NaN</td>\n",
       "    </tr>\n",
       "    <tr>\n",
       "      <td>1</td>\n",
       "      <td>2007-09-20</td>\n",
       "      <td>0.048000</td>\n",
       "    </tr>\n",
       "    <tr>\n",
       "      <td>2</td>\n",
       "      <td>2007-09-21</td>\n",
       "      <td>0.045802</td>\n",
       "    </tr>\n",
       "    <tr>\n",
       "      <td>3</td>\n",
       "      <td>2007-09-24</td>\n",
       "      <td>0.043796</td>\n",
       "    </tr>\n",
       "    <tr>\n",
       "      <td>4</td>\n",
       "      <td>2007-09-25</td>\n",
       "      <td>0.048951</td>\n",
       "    </tr>\n",
       "  </tbody>\n",
       "</table>\n",
       "</div>"
      ],
      "text/plain": [
       "        DATE    Return\n",
       "0 2007-09-19       NaN\n",
       "1 2007-09-20  0.048000\n",
       "2 2007-09-21  0.045802\n",
       "3 2007-09-24  0.043796\n",
       "4 2007-09-25  0.048951"
      ]
     },
     "execution_count": 18,
     "metadata": {},
     "output_type": "execute_result"
    }
   ],
   "source": [
    "daily_return=closePrice[['DATE','Return']]\n",
    "daily_return.head()"
   ]
  },
  {
   "cell_type": "markdown",
   "metadata": {},
   "source": [
    "### Reseting index"
   ]
  },
  {
   "cell_type": "code",
   "execution_count": 19,
   "metadata": {},
   "outputs": [
    {
     "data": {
      "text/html": [
       "<div>\n",
       "<style scoped>\n",
       "    .dataframe tbody tr th:only-of-type {\n",
       "        vertical-align: middle;\n",
       "    }\n",
       "\n",
       "    .dataframe tbody tr th {\n",
       "        vertical-align: top;\n",
       "    }\n",
       "\n",
       "    .dataframe thead th {\n",
       "        text-align: right;\n",
       "    }\n",
       "</style>\n",
       "<table border=\"1\" class=\"dataframe\">\n",
       "  <thead>\n",
       "    <tr style=\"text-align: right;\">\n",
       "      <th></th>\n",
       "      <th>Return</th>\n",
       "    </tr>\n",
       "    <tr>\n",
       "      <th>DATE</th>\n",
       "      <th></th>\n",
       "    </tr>\n",
       "  </thead>\n",
       "  <tbody>\n",
       "    <tr>\n",
       "      <td>2007-09-19</td>\n",
       "      <td>NaN</td>\n",
       "    </tr>\n",
       "    <tr>\n",
       "      <td>2007-09-20</td>\n",
       "      <td>0.048000</td>\n",
       "    </tr>\n",
       "    <tr>\n",
       "      <td>2007-09-21</td>\n",
       "      <td>0.045802</td>\n",
       "    </tr>\n",
       "    <tr>\n",
       "      <td>2007-09-24</td>\n",
       "      <td>0.043796</td>\n",
       "    </tr>\n",
       "    <tr>\n",
       "      <td>2007-09-25</td>\n",
       "      <td>0.048951</td>\n",
       "    </tr>\n",
       "  </tbody>\n",
       "</table>\n",
       "</div>"
      ],
      "text/plain": [
       "              Return\n",
       "DATE                \n",
       "2007-09-19       NaN\n",
       "2007-09-20  0.048000\n",
       "2007-09-21  0.045802\n",
       "2007-09-24  0.043796\n",
       "2007-09-25  0.048951"
      ]
     },
     "execution_count": 19,
     "metadata": {},
     "output_type": "execute_result"
    }
   ],
   "source": [
    "daily_return =daily_return.set_index('DATE')\n",
    "daily_return.head()"
   ]
  },
  {
   "cell_type": "code",
   "execution_count": 25,
   "metadata": {},
   "outputs": [
    {
     "data": {
      "text/html": [
       "<div>\n",
       "<style scoped>\n",
       "    .dataframe tbody tr th:only-of-type {\n",
       "        vertical-align: middle;\n",
       "    }\n",
       "\n",
       "    .dataframe tbody tr th {\n",
       "        vertical-align: top;\n",
       "    }\n",
       "\n",
       "    .dataframe thead th {\n",
       "        text-align: right;\n",
       "    }\n",
       "</style>\n",
       "<table border=\"1\" class=\"dataframe\">\n",
       "  <thead>\n",
       "    <tr style=\"text-align: right;\">\n",
       "      <th></th>\n",
       "      <th>Return</th>\n",
       "    </tr>\n",
       "    <tr>\n",
       "      <th>DATE</th>\n",
       "      <th></th>\n",
       "    </tr>\n",
       "  </thead>\n",
       "  <tbody>\n",
       "    <tr>\n",
       "      <td>2007-09-20</td>\n",
       "      <td>4.800000</td>\n",
       "    </tr>\n",
       "    <tr>\n",
       "      <td>2007-09-21</td>\n",
       "      <td>4.580153</td>\n",
       "    </tr>\n",
       "    <tr>\n",
       "      <td>2007-09-24</td>\n",
       "      <td>4.379562</td>\n",
       "    </tr>\n",
       "    <tr>\n",
       "      <td>2007-09-25</td>\n",
       "      <td>4.895105</td>\n",
       "    </tr>\n",
       "    <tr>\n",
       "      <td>2007-09-26</td>\n",
       "      <td>4.666667</td>\n",
       "    </tr>\n",
       "  </tbody>\n",
       "</table>\n",
       "</div>"
      ],
      "text/plain": [
       "              Return\n",
       "DATE                \n",
       "2007-09-20  4.800000\n",
       "2007-09-21  4.580153\n",
       "2007-09-24  4.379562\n",
       "2007-09-25  4.895105\n",
       "2007-09-26  4.666667"
      ]
     },
     "execution_count": 25,
     "metadata": {},
     "output_type": "execute_result"
    }
   ],
   "source": [
    "daily_return = 100 * daily_return.dropna()\n",
    "daily_return.head()"
   ]
  },
  {
   "cell_type": "code",
   "execution_count": 26,
   "metadata": {},
   "outputs": [
    {
     "data": {
      "text/plain": [
       "DatetimeIndex(['2007-09-20', '2007-09-21', '2007-09-24', '2007-09-25',\n",
       "               '2007-09-26', '2007-09-27', '2007-09-28', '2007-10-01',\n",
       "               '2007-10-02', '2007-10-03',\n",
       "               ...\n",
       "               '2013-12-18', '2013-12-19', '2013-12-20', '2013-12-23',\n",
       "               '2013-12-24', '2013-12-25', '2013-12-26', '2013-12-27',\n",
       "               '2013-12-30', '2013-12-31'],\n",
       "              dtype='datetime64[ns]', name='DATE', length=1569, freq=None)"
      ]
     },
     "execution_count": 26,
     "metadata": {},
     "output_type": "execute_result"
    }
   ],
   "source": [
    "daily_return.index"
   ]
  },
  {
   "cell_type": "markdown",
   "metadata": {},
   "source": [
    "### Plotting returns"
   ]
  },
  {
   "cell_type": "code",
   "execution_count": 33,
   "metadata": {},
   "outputs": [
    {
     "data": {
      "image/png": "[encoded data removed]",
      "text/plain": [
       "<Figure size 720x504 with 1 Axes>"
      ]
     },
     "metadata": {},
     "output_type": "display_data"
    }
   ],
   "source": [
    "fig=plt.figure(figsize=(10,7))\n",
    "figure = daily_return['Return'].plot()"
   ]
  },
  {
   "cell_type": "code",
   "execution_count": 30,
   "metadata": {},
   "outputs": [
    {
     "data": {
      "text/plain": [
       "Text(0.5, 0, 'Source: The Daily Close Price-based Calculations')"
      ]
     },
     "execution_count": 30,
     "metadata": {},
     "output_type": "execute_result"
    },
    {
     "data": {
      "image/png": "[encoded data removed]",
      "text/plain": [
       "<Figure size 864x504 with 1 Axes>"
      ]
     },
     "metadata": {},
     "output_type": "display_data"
    }
   ],
   "source": [
    "sns.set()\n",
    "fig=plt.figure(figsize=(12,7))\n",
    "plt.plot(daily_return.Return['2007':'2013'],LineWidth=4)\n",
    "plt.autoscale(enable=True,axis='both',tight=True)\n",
    "#plt.grid(linestyle=':',which='both',linewidth=2)\n",
    "fig.suptitle('The Log Daily Returns', fontsize=18,fontweight='bold')\n",
    "plt.title('19/09/2007- 31/12/2019',fontsize=15,fontweight='bold',color='k')\n",
    "plt.ylabel('Return (%)',fontsize=17)\n",
    "plt.xlabel('Source: The Daily Close Price-based Calculations',fontsize=17,fontweight='normal',color='k')"
   ]
  },
  {
   "cell_type": "markdown",
   "metadata": {},
   "source": [
    "# Modelling GARCH model\n",
    "\n",
    "$$\\text{Mean equation:}$$\n",
    "$$r_{t}=\\mu + \\epsilon_{t}$$\n",
    "\n",
    "$$\\text{Volatility equation:}$$\n",
    "$$\\sigma^{2}_{t}= \\omega + \\alpha \\epsilon^{2}_{t} + \\beta\\sigma^{2}_{t-1}$$\n",
    "\n",
    "$$\\text{Volatility equation:}$$\n",
    "\n",
    "$$\\epsilon_{t}= \\sigma_{t} e_{t}$$\n",
    "\n",
    "$$e_{t} \\sim N(0,1)$$\n"
   ]
  },
  {
   "cell_type": "code",
   "execution_count": 43,
   "metadata": {},
   "outputs": [
    {
     "name": "stdout",
     "output_type": "stream",
     "text": [
      "Iteration:      1,   Func. Count:      6,   Neg. LLF: 3885.3467982247066\n",
      "Iteration:      2,   Func. Count:     17,   Neg. LLF: 3877.0312321042275\n",
      "Iteration:      3,   Func. Count:     24,   Neg. LLF: 3861.087448190494\n",
      "Iteration:      4,   Func. Count:     31,   Neg. LLF: 3854.509431912371\n",
      "Iteration:      5,   Func. Count:     38,   Neg. LLF: 3851.1131556060673\n",
      "Iteration:      6,   Func. Count:     44,   Neg. LLF: 3847.280064200558\n",
      "Iteration:      7,   Func. Count:     51,   Neg. LLF: 3846.9249627311465\n",
      "Iteration:      8,   Func. Count:     57,   Neg. LLF: 3844.379300270364\n",
      "Iteration:      9,   Func. Count:     63,   Neg. LLF: 3843.992837376597\n",
      "Iteration:     10,   Func. Count:     69,   Neg. LLF: 3843.973895501096\n",
      "Iteration:     11,   Func. Count:     75,   Neg. LLF: 3843.973090964775\n",
      "Iteration:     12,   Func. Count:     81,   Neg. LLF: 3843.973082360283\n",
      "Optimization terminated successfully.    (Exit mode 0)\n",
      "            Current function value: 3843.973082719966\n",
      "            Iterations: 12\n",
      "            Function evaluations: 81\n",
      "            Gradient evaluations: 12\n",
      "                     Constant Mean - GARCH Model Results                      \n",
      "==============================================================================\n",
      "Dep. Variable:                 Return   R-squared:                      -0.005\n",
      "Mean Model:             Constant Mean   Adj. R-squared:                 -0.005\n",
      "Vol Model:                      GARCH   Log-Likelihood:               -3843.97\n",
      "Distribution:                  Normal   AIC:                           7695.95\n",
      "Method:            Maximum Likelihood   BIC:                           7717.38\n",
      "                                        No. Observations:                 1569\n",
      "Date:                Fri, Feb 21 2020   Df Residuals:                     1565\n",
      "Time:                        18:31:42   Df Model:                            4\n",
      "                                 Mean Model                                \n",
      "===========================================================================\n",
      "                 coef    std err          t      P>|t|     95.0% Conf. Int.\n",
      "---------------------------------------------------------------------------\n",
      "mu             0.2208      0.162      1.367      0.172 [-9.584e-02,  0.537]\n",
      "                             Volatility Model                             \n",
      "==========================================================================\n",
      "                 coef    std err          t      P>|t|    95.0% Conf. Int.\n",
      "--------------------------------------------------------------------------\n",
      "omega          2.2343      1.686      1.325      0.185   [ -1.070,  5.538]\n",
      "alpha[1]       0.6936      0.325      2.133  3.296e-02 [5.612e-02,  1.331]\n",
      "beta[1]        0.3064      0.214      1.433      0.152   [ -0.113,  0.726]\n",
      "==========================================================================\n",
      "\n",
      "Covariance estimator: robust\n"
     ]
    }
   ],
   "source": [
    "am = arch_model(daily_return,p=1, o=0, q=1)\n",
    "res = am.fit(update_freq=1)\n",
    "print(res.summary())"
   ]
  },
  {
   "cell_type": "markdown",
   "metadata": {},
   "source": [
    "# Checking the residual"
   ]
  },
  {
   "cell_type": "code",
   "execution_count": 37,
   "metadata": {},
   "outputs": [
    {
     "data": {
      "image/png": "[encoded data removed]",
      "text/plain": [
       "<Figure size 432x288 with 2 Axes>"
      ]
     },
     "metadata": {},
     "output_type": "display_data"
    }
   ],
   "source": [
    "\n",
    "fig = res.plot(annualize='D')"
   ]
  },
  {
   "cell_type": "code",
   "execution_count": null,
   "metadata": {},
   "outputs": [],
   "source": []
  }
 ],
 "metadata": {
  "kernelspec": {
   "display_name": "Python 3",
   "language": "python",
   "name": "python3"
  },
  "language_info": {
   "codemirror_mode": {
    "name": "ipython",
    "version": 3
   },
   "file_extension": ".py",
   "mimetype": "text/x-python",
   "name": "python",
   "nbconvert_exporter": "python",
   "pygments_lexer": "ipython3",
   "version": "3.6.9"
  },
  "toc": {
   "base_numbering": 1,
   "nav_menu": {},
   "number_sections": true,
   "sideBar": true,
   "skip_h1_title": false,
   "title_cell": "Table of Contents",
   "title_sidebar": "Contents",
   "toc_cell": false,
   "toc_position": {},
   "toc_section_display": true,
   "toc_window_display": false
  }
 },
 "nbformat": 4,
 "nbformat_minor": 2
}
